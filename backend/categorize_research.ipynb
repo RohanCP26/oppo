{
 "cells": [
  {
   "cell_type": "code",
   "execution_count": 79,
   "id": "27b967f9",
   "metadata": {},
   "outputs": [],
   "source": [
    "from sentence_transformers import SentenceTransformer, util\n",
    "from category_examples import category_examples\n",
    "\n",
    "# 1. Define the research fields (optional if you use keys from category_examples)\n",
    "research_fields = list(category_examples.keys())\n",
    "\n",
    "# 2. Flatten examples and store labels\n",
    "paper_titles = []\n",
    "paper_labels = []\n",
    "\n",
    "for field, examples in category_examples.items():\n",
    "    paper_titles.extend(examples)\n",
    "    paper_labels.extend([field] * len(examples))\n",
    "\n",
    "# 3. Load model\n",
    "model = SentenceTransformer('all-MiniLM-L6-v2')\n",
    "\n",
    "# 4. Encode examples\n",
    "example_embeddings = model.encode(paper_titles, convert_to_tensor=True)\n",
    "\n",
    "# 5. Classify function\n",
    "def classify_text(text):\n",
    "    input_embedding = model.encode(text, convert_to_tensor=True)\n",
    "    cosine_scores = util.cos_sim(input_embedding, example_embeddings)\n",
    "\n",
    "    similarity_scores = {}\n",
    "    for i, label in enumerate(paper_labels):\n",
    "        score = cosine_scores[0][i].item()\n",
    "        similarity_scores[label] = max(similarity_scores.get(label, 0), score)\n",
    "\n",
    "    best_field = max(similarity_scores, key=similarity_scores.get)\n",
    "    return best_field, similarity_scores"
   ]
  },
  {
   "cell_type": "code",
   "execution_count": 82,
   "id": "fa1027c4",
   "metadata": {},
   "outputs": [
    {
     "name": "stdout",
     "output_type": "stream",
     "text": [
      "Predicted Category: Biology\n",
      "Biology: 0.437\n",
      "Public Policy: 0.101\n",
      "Chemistry: 0.098\n",
      "Computer Science: 0.098\n",
      "Economics: 0.079\n",
      "Engineering: 0.065\n",
      "Physics: 0.060\n"
     ]
    }
   ],
   "source": [
    "# Example usage\n",
    "text = \"Dynamic single cell transcriptomics defines kidney FGF23/KL bioactivity and novel segment-specific inflammatory targets.. Phosphorus-independent role of FGF23 in erythropoiesis and iron homeostasis. Challenges and opportunities for conceiving genetically diverse sickle cell mice. The klotho F/C AD risk haplotype drives distinct phenotypes in a novel mouse model. Induced hypophosphatemia causes genomic reprogramming across the osteolineage as detected by single-cell RNAseq\"\n",
    "label, scores = classify_text(text)\n",
    "print(\"Predicted Category:\", label)\n",
    "for k, v in sorted(scores.items(), key=lambda x: -x[1]):\n",
    "    print(f\"{k}: {v:.3f}\")"
   ]
  }
 ],
 "metadata": {
  "kernelspec": {
   "display_name": "backend-env",
   "language": "python",
   "name": "python3"
  },
  "language_info": {
   "codemirror_mode": {
    "name": "ipython",
    "version": 3
   },
   "file_extension": ".py",
   "mimetype": "text/x-python",
   "name": "python",
   "nbconvert_exporter": "python",
   "pygments_lexer": "ipython3",
   "version": "3.11.11"
  }
 },
 "nbformat": 4,
 "nbformat_minor": 5
}
